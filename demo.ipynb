{
 "cells": [
  {
   "cell_type": "code",
   "execution_count": 1,
   "metadata": {
    "tags": []
   },
   "outputs": [],
   "source": [
    "%load_ext lab_black"
   ]
  },
  {
   "cell_type": "code",
   "execution_count": 2,
   "metadata": {
    "tags": []
   },
   "outputs": [],
   "source": [
    "import pandas as pd\n",
    "\n",
    "from sklearn.metrics import roc_auc_score\n",
    "\n",
    "from datasets import load_dataset\n",
    "from sentence_transformers.losses import CosineSimilarityLoss\n",
    "from sentence_transformers.SentenceTransformer import SentenceTransformer\n",
    "from setfit import SetFitModel, SetFitTrainer\n",
    "from tqdm.auto import tqdm\n",
    "\n",
    "from setfit_ig.html_text_colorizer import WordImportanceColorsSetFit\n",
    "from setfit_ig.integrated_gradients import integrated_gradients_on_text\n",
    "from setfit_ig.model_head import SklearnToPyTorchLogisticRegression\n",
    "\n",
    "from setfit_ig.setfit_extensions import SetFitGrad, SetFitModelWithTorchHead\n",
    "\n",
    "from IPython.display import HTML\n",
    "\n",
    "from sklearn.model_selection import train_test_split"
   ]
  },
  {
   "cell_type": "code",
   "execution_count": 3,
   "metadata": {
    "tags": []
   },
   "outputs": [
    {
     "name": "stderr",
     "output_type": "stream",
     "text": [
      "config.json not found in HuggingFace Hub.\n",
      "model_head.pkl not found on HuggingFace Hub, initialising classification head with random weights. You should TRAIN this model on a downstream task to use it for predictions and inference.\n"
     ]
    }
   ],
   "source": [
    "data = load_dataset(\"sst2\", split=\"train\")\n",
    "data = data.train_test_split(\n",
    "    train_size=10,\n",
    "    test_size=300,\n",
    ")\n",
    "\n",
    "\n",
    "train = data[\"train\"]\n",
    "test = data[\"test\"]\n",
    "\n",
    "\n",
    "# model_name = \"sentence-transformers/all-MiniLM-L6-v2\"\n",
    "model_name = \"all-roberta-large-v1\"\n",
    "\n",
    "\n",
    "model = SetFitModel.from_pretrained(model_name)\n",
    "trainer = SetFitTrainer(\n",
    "    model=model,\n",
    "    train_dataset=train,\n",
    "    eval_dataset=test,\n",
    "    loss_class=CosineSimilarityLoss,\n",
    "    batch_size=15,\n",
    "    num_epochs=1,\n",
    "    num_iterations=5,\n",
    "    column_mapping={\"sentence\": \"text\", \"label\": \"label\"},\n",
    ")"
   ]
  },
  {
   "cell_type": "code",
   "execution_count": 4,
   "metadata": {
    "tags": []
   },
   "outputs": [
    {
     "name": "stderr",
     "output_type": "stream",
     "text": [
      "Applying column mapping to training dataset\n"
     ]
    },
    {
     "data": {
      "application/vnd.jupyter.widget-view+json": {
       "model_id": "32d70f73b0a54e01b520e85deda4a359",
       "version_major": 2,
       "version_minor": 0
      },
      "text/plain": [
       "Generating Training Pairs:   0%|          | 0/5 [00:00<?, ?it/s]"
      ]
     },
     "metadata": {},
     "output_type": "display_data"
    },
    {
     "name": "stderr",
     "output_type": "stream",
     "text": [
      "***** Running training *****\n",
      "  Num examples = 100\n",
      "  Num epochs = 1\n",
      "  Total optimization steps = 7\n",
      "  Total train batch size = 15\n"
     ]
    },
    {
     "data": {
      "application/vnd.jupyter.widget-view+json": {
       "model_id": "2902d77392b5433d911226a9159415c8",
       "version_major": 2,
       "version_minor": 0
      },
      "text/plain": [
       "Epoch:   0%|          | 0/1 [00:00<?, ?it/s]"
      ]
     },
     "metadata": {},
     "output_type": "display_data"
    },
    {
     "data": {
      "application/vnd.jupyter.widget-view+json": {
       "model_id": "0ef00a1e493246c7864fa6980edde20a",
       "version_major": 2,
       "version_minor": 0
      },
      "text/plain": [
       "Iteration:   0%|          | 0/7 [00:00<?, ?it/s]"
      ]
     },
     "metadata": {},
     "output_type": "display_data"
    }
   ],
   "source": [
    "trainer.train()"
   ]
  },
  {
   "cell_type": "code",
   "execution_count": 5,
   "metadata": {},
   "outputs": [
    {
     "name": "stderr",
     "output_type": "stream",
     "text": [
      "Applying column mapping to evaluation dataset\n",
      "***** Running evaluation *****\n"
     ]
    },
    {
     "data": {
      "text/plain": [
       "{'accuracy': 0.5333333333333333}"
      ]
     },
     "execution_count": 5,
     "metadata": {},
     "output_type": "execute_result"
    }
   ],
   "source": [
    "trainer.evaluate()"
   ]
  },
  {
   "cell_type": "code",
   "execution_count": 5,
   "metadata": {
    "tags": []
   },
   "outputs": [],
   "source": [
    "model_st = SetFitModelWithTorchHead(\n",
    "    model_body=model.model_body,\n",
    "    model_head=SklearnToPyTorchLogisticRegression(model.model_head),\n",
    ")"
   ]
  },
  {
   "cell_type": "code",
   "execution_count": 6,
   "metadata": {
    "tags": []
   },
   "outputs": [
    {
     "name": "stdout",
     "output_type": "stream",
     "text": [
      "Remember to use:\n",
      "from IPython.display import HTML\n",
      "HTML(colored_text)\n",
      "1\n",
      "class probability: 0.53\n"
     ]
    },
    {
     "data": {
      "text/html": [
       "<mark style=background-color:#ffb2b2>pe </mark> <mark style=background-color:#ffeeee>pp </mark> <mark style=background-color:#fffcfc>ering </mark> <mark style=background-color:#ffdede>this </mark> <mark style=background-color:#0000ff>urban </mark> <mark style=background-color:#f4f4ff>study </mark> <mark style=background-color:#fffcfc>with </mark> <mark style=background-color:#ff3232>references </mark> <mark style=background-color:#fff0f0>to </mark> <mark style=background-color:#ffdede>nor </mark> <mark style=background-color:#9898ff>wegian </mark> <mark style=background-color:#ffecec>folk </mark> <mark style=background-color:#ffe8e8>t </mark> <mark style=background-color:#ffb4b4>ales </mark> <mark style=background-color:#dedeff>, </mark> <mark style=background-color:#ffcccc>vill </mark> <mark style=background-color:#fff6f6>ene </mark> <mark style=background-color:#ffacac>uve </mark> <mark style=background-color:#ffd8d8>creates </mark> <mark style=background-color:#ffbcbc>in </mark> <mark style=background-color:#dadaff>m </mark> <mark style=background-color:#ffe2e2>ael </mark> <mark style=background-color:#fff0f0>strom </mark> <mark style=background-color:#ff9494>a </mark> <mark style=background-color:#fffefe>world </mark> <mark style=background-color:#ffe6e6>where </mark> <mark style=background-color:#ff3030>the </mark> <mark style=background-color:#4444ff>bizarre </mark> <mark style=background-color:#f0f0ff>is </mark> <mark style=background-color:#ff0000>credible </mark> <mark style=background-color:#ffd2d2>and </mark> <mark style=background-color:#ff3030>the </mark> <mark style=background-color:#fffefe>real </mark> <mark style=background-color:#ffbcbc>turns </mark> <mark style=background-color:#ff3e3e>magical </mark> <mark style=background-color:#0e0eff>. </mark> <mark style=background-color:#ff1a1a> </mark>"
      ],
      "text/plain": [
       "<IPython.core.display.HTML object>"
      ]
     },
     "execution_count": 6,
     "metadata": {},
     "output_type": "execute_result"
    }
   ],
   "source": [
    "grd = SetFitGrad(model_st)\n",
    "m = WordImportanceColorsSetFit(grd)\n",
    "\n",
    "# blue for class 0 and red for class 1\n",
    "\n",
    "\n",
    "def return_prediction(N):\n",
    "    test_text, test_label = test[\"sentence\"][N], test[\"label\"][N]\n",
    "    colors, df, prob, _ = m.show_colors_for_sentence(test_text, integration_steps=120)\n",
    "    print(test_label)\n",
    "    print(f\"class probability: {prob:1.2f}\")\n",
    "    return colors\n",
    "\n",
    "\n",
    "colors = return_prediction(13)\n",
    "HTML(colors)"
   ]
  },
  {
   "cell_type": "code",
   "execution_count": 7,
   "metadata": {
    "tags": []
   },
   "outputs": [
    {
     "name": "stdout",
     "output_type": "stream",
     "text": [
      "0\n",
      "class probability: 0.69\n"
     ]
    },
    {
     "data": {
      "text/html": [
       "<mark style=background-color:#ffdede>with </mark> <mark style=background-color:#ffa6a6>Ġblazing </mark> <mark style=background-color:#fff4f4>Ġguns </mark> <mark style=background-color:#ffecec>Ġ, </mark> <mark style=background-color:#fff0f0>Ġcheat </mark> <mark style=background-color:#ffeaea>fully </mark> <mark style=background-color:#ccccff>Ġfilmed </mark> <mark style=background-color:#ff9a9a>Ġmartial </mark> <mark style=background-color:#fff4f4>Ġarts </mark> <mark style=background-color:#ffecec>Ġ, </mark> <mark style=background-color:#9c9cff>Ġdisinteg </mark> <mark style=background-color:#fefeff>rating </mark> <mark style=background-color:#ececff>Ġblood </mark> <mark style=background-color:#ffcaca>s </mark> <mark style=background-color:#ffbcbc>ucker </mark> <mark style=background-color:#c2c2ff>Ġcomputer </mark> <mark style=background-color:#cacaff>Ġeffects </mark> <mark style=background-color:#ffc8c8>Ġand </mark> <mark style=background-color:#ff0000>Ġj </mark> <mark style=background-color:#bebeff>agged </mark> <mark style=background-color:#c4c4ff>Ġcamera </mark> <mark style=background-color:#fffefe>Ġmoves </mark> <mark style=background-color:#fff2f2>Ġthat </mark> <mark style=background-color:#ffcece>Ġserve </mark> <mark style=background-color:#aaaaff>Ġno </mark> <mark style=background-color:#ffd4d4>Ġother </mark> <mark style=background-color:#ffe2e2>Ġpurpose </mark> <mark style=background-color:#fffefe>Ġthan </mark> <mark style=background-color:#ffd4d4>Ġto </mark> <mark style=background-color:#ececff>Ġcall </mark> <mark style=background-color:#0000ff>Ġattention </mark> <mark style=background-color:#ffd4d4>Ġto </mark> <mark style=background-color:#f2f2ff>Ġthemselves </mark> <mark style=background-color:#f0f0ff>Ġ </mark>"
      ],
      "text/plain": [
       "<IPython.core.display.HTML object>"
      ]
     },
     "execution_count": 7,
     "metadata": {},
     "output_type": "execute_result"
    }
   ],
   "source": [
    "colors = return_prediction(100)\n",
    "HTML(colors)"
   ]
  },
  {
   "cell_type": "code",
   "execution_count": 8,
   "metadata": {
    "tags": []
   },
   "outputs": [
    {
     "name": "stdout",
     "output_type": "stream",
     "text": [
      "1\n",
      "class probability: 0.68\n"
     ]
    },
    {
     "data": {
      "text/html": [
       "<mark style=background-color:#ffd8d8>ant </mark> <mark style=background-color:#ff8a8a>w </mark> <mark style=background-color:#fffefe>one </mark> <mark style=background-color:#4242ff>Ġfisher </mark> <mark style=background-color:#ff4e4e>Ġcertainly </mark> <mark style=background-color:#f2f2ff>Ġdoes </mark> <mark style=background-color:#fffafa>Ġthe </mark> <mark style=background-color:#ffeeee>Ġtrick </mark> <mark style=background-color:#ffe8e8>Ġof </mark> <mark style=background-color:#f8f8ff>Ġmaking </mark> <mark style=background-color:#fffcfc>Ġus </mark> <mark style=background-color:#fff6f6>Ġcare </mark> <mark style=background-color:#f0f0ff>Ġabout </mark> <mark style=background-color:#fff0f0>Ġits </mark> <mark style=background-color:#0000ff>Ġprotagonist </mark> <mark style=background-color:#ffeeee>Ġand </mark> <mark style=background-color:#ffdada>Ġcelebrate </mark> <mark style=background-color:#ff9e9e>Ġhis </mark> <mark style=background-color:#ff0000>Ġvictories </mark> <mark style=background-color:#fff4f4>Ġbut </mark> <mark style=background-color:#ffa6a6>Ġ, </mark> <mark style=background-color:#ffc2c2>Ġwith </mark> <mark style=background-color:#ffe4e4>Ġfew </mark> <mark style=background-color:#f0f0ff>Ġexceptions </mark> <mark style=background-color:#ffa6a6>Ġ, </mark> <mark style=background-color:#ffaaaa>Ġit </mark> <mark style=background-color:#b6b6ff>Ġrarely </mark> <mark style=background-color:#eaeaff>Ġsto </mark> <mark style=background-color:#f2f2ff>ops </mark> <mark style=background-color:#ffbebe>Ġto </mark> <mark style=background-color:#bebeff>Ġcheap </mark> <mark style=background-color:#ff8e8e>Ġmanipulation </mark> <mark style=background-color:#f4f4ff>Ġor </mark> <mark style=background-color:#c2c2ff>Ġcor </mark> <mark style=background-color:#d6d6ff>ny </mark> <mark style=background-color:#fffefe>Ġconventions </mark> <mark style=background-color:#ffbebe>Ġto </mark> <mark style=background-color:#dcdcff>Ġdo </mark> <mark style=background-color:#ffaaaa>Ġit </mark> <mark style=background-color:#ffd2d2>Ġ. </mark> <mark style=background-color:#8a8aff>Ġ </mark>"
      ],
      "text/plain": [
       "<IPython.core.display.HTML object>"
      ]
     },
     "execution_count": 8,
     "metadata": {},
     "output_type": "execute_result"
    }
   ],
   "source": [
    "colors = return_prediction(230)\n",
    "HTML(colors)"
   ]
  },
  {
   "cell_type": "code",
   "execution_count": 9,
   "metadata": {},
   "outputs": [
    {
     "ename": "AttributeError",
     "evalue": "'DataFrame' object has no attribute 'words'",
     "output_type": "error",
     "traceback": [
      "\u001b[0;31m---------------------------------------------------------------------------\u001b[0m",
      "\u001b[0;31mAttributeError\u001b[0m                            Traceback (most recent call last)",
      "\u001b[0;32m/var/folders/9s/x_1mry7d4ms43w317dyc9c040000gn/T/ipykernel_75090/846784630.py\u001b[0m in \u001b[0;36m?\u001b[0;34m()\u001b[0m\n\u001b[0;32m----> 1\u001b[0;31m \u001b[0mcolors\u001b[0m\u001b[0;34m,\u001b[0m \u001b[0mdf\u001b[0m\u001b[0;34m,\u001b[0m \u001b[0mprob\u001b[0m\u001b[0;34m,\u001b[0m \u001b[0m_\u001b[0m \u001b[0;34m=\u001b[0m \u001b[0mm\u001b[0m\u001b[0;34m.\u001b[0m\u001b[0mshow_colors_for_sentence\u001b[0m\u001b[0;34m(\u001b[0m\u001b[0;34m\"\"\u001b[0m\u001b[0;34m,\u001b[0m \u001b[0mintegration_steps\u001b[0m\u001b[0;34m=\u001b[0m\u001b[0;36m100\u001b[0m\u001b[0;34m)\u001b[0m\u001b[0;34m\u001b[0m\u001b[0;34m\u001b[0m\u001b[0m\n\u001b[0m\u001b[1;32m      2\u001b[0m \u001b[0mprint\u001b[0m\u001b[0;34m(\u001b[0m\u001b[0;34mf\"class probability: {prob:1.2f}\"\u001b[0m\u001b[0;34m)\u001b[0m\u001b[0;34m\u001b[0m\u001b[0;34m\u001b[0m\u001b[0m\n",
      "\u001b[0;32m~/Desktop/setfit-integrated-gradients/setfit_ig/html_text_colorizer.py\u001b[0m in \u001b[0;36m?\u001b[0;34m(self, text, integration_steps, cmap)\u001b[0m\n\u001b[1;32m     69\u001b[0m         df_w2s, prob, grad_per_integration_step = integrated_gradients_on_text(\n\u001b[1;32m     70\u001b[0m             \u001b[0mtext\u001b[0m\u001b[0;34m,\u001b[0m \u001b[0mself\u001b[0m\u001b[0;34m.\u001b[0m\u001b[0mscorer\u001b[0m\u001b[0;34m,\u001b[0m \u001b[0mintegration_steps\u001b[0m\u001b[0;34m=\u001b[0m\u001b[0mintegration_steps\u001b[0m\u001b[0;34m\u001b[0m\u001b[0;34m\u001b[0m\u001b[0m\n\u001b[1;32m     71\u001b[0m         )\n\u001b[1;32m     72\u001b[0m \u001b[0;34m\u001b[0m\u001b[0m\n\u001b[0;32m---> 73\u001b[0;31m         \u001b[0mwords\u001b[0m \u001b[0;34m=\u001b[0m \u001b[0mdf_w2s\u001b[0m\u001b[0;34m.\u001b[0m\u001b[0mwords\u001b[0m\u001b[0;34m.\u001b[0m\u001b[0mapply\u001b[0m\u001b[0;34m(\u001b[0m\u001b[0;32mlambda\u001b[0m \u001b[0mx\u001b[0m\u001b[0;34m:\u001b[0m \u001b[0mx\u001b[0m\u001b[0;34m.\u001b[0m\u001b[0mreplace\u001b[0m\u001b[0;34m(\u001b[0m\u001b[0;34m\"\\u0120\"\u001b[0m\u001b[0;34m,\u001b[0m \u001b[0;34m\"\"\u001b[0m\u001b[0;34m)\u001b[0m\u001b[0;34m)\u001b[0m\u001b[0;34m\u001b[0m\u001b[0;34m\u001b[0m\u001b[0m\n\u001b[0m\u001b[1;32m     74\u001b[0m \u001b[0;34m\u001b[0m\u001b[0m\n\u001b[1;32m     75\u001b[0m         \u001b[0mcolors\u001b[0m \u001b[0;34m=\u001b[0m \u001b[0mcolorize\u001b[0m\u001b[0;34m(\u001b[0m\u001b[0mdf_w2s\u001b[0m\u001b[0;34m.\u001b[0m\u001b[0mscore\u001b[0m\u001b[0;34m,\u001b[0m \u001b[0mcmap\u001b[0m\u001b[0;34m=\u001b[0m\u001b[0mcmap\u001b[0m\u001b[0;34m)\u001b[0m\u001b[0;34m\u001b[0m\u001b[0;34m\u001b[0m\u001b[0m\n\u001b[1;32m     76\u001b[0m \u001b[0;34m\u001b[0m\u001b[0m\n",
      "\u001b[0;32m~/.virtualenvs/setfit-integrated-gradients/lib/python3.9/site-packages/pandas/core/generic.py\u001b[0m in \u001b[0;36m?\u001b[0;34m(self, name)\u001b[0m\n\u001b[1;32m   5985\u001b[0m             \u001b[0;32mand\u001b[0m \u001b[0mname\u001b[0m \u001b[0;32mnot\u001b[0m \u001b[0;32min\u001b[0m \u001b[0mself\u001b[0m\u001b[0;34m.\u001b[0m\u001b[0m_accessors\u001b[0m\u001b[0;34m\u001b[0m\u001b[0;34m\u001b[0m\u001b[0m\n\u001b[1;32m   5986\u001b[0m             \u001b[0;32mand\u001b[0m \u001b[0mself\u001b[0m\u001b[0;34m.\u001b[0m\u001b[0m_info_axis\u001b[0m\u001b[0;34m.\u001b[0m\u001b[0m_can_hold_identifiers_and_holds_name\u001b[0m\u001b[0;34m(\u001b[0m\u001b[0mname\u001b[0m\u001b[0;34m)\u001b[0m\u001b[0;34m\u001b[0m\u001b[0;34m\u001b[0m\u001b[0m\n\u001b[1;32m   5987\u001b[0m         ):\n\u001b[1;32m   5988\u001b[0m             \u001b[0;32mreturn\u001b[0m \u001b[0mself\u001b[0m\u001b[0;34m[\u001b[0m\u001b[0mname\u001b[0m\u001b[0;34m]\u001b[0m\u001b[0;34m\u001b[0m\u001b[0;34m\u001b[0m\u001b[0m\n\u001b[0;32m-> 5989\u001b[0;31m         \u001b[0;32mreturn\u001b[0m \u001b[0mobject\u001b[0m\u001b[0;34m.\u001b[0m\u001b[0m__getattribute__\u001b[0m\u001b[0;34m(\u001b[0m\u001b[0mself\u001b[0m\u001b[0;34m,\u001b[0m \u001b[0mname\u001b[0m\u001b[0;34m)\u001b[0m\u001b[0;34m\u001b[0m\u001b[0;34m\u001b[0m\u001b[0m\n\u001b[0m",
      "\u001b[0;31mAttributeError\u001b[0m: 'DataFrame' object has no attribute 'words'"
     ]
    }
   ],
   "source": [
    "colors, df, prob, _ = m.show_colors_for_sentence(\"\", integration_steps=100)\n",
    "print(f\"class probability: {prob:1.2f}\")"
   ]
  },
  {
   "cell_type": "code",
   "execution_count": null,
   "metadata": {},
   "outputs": [],
   "source": []
  },
  {
   "cell_type": "code",
   "execution_count": null,
   "metadata": {},
   "outputs": [],
   "source": []
  }
 ],
 "metadata": {
  "kernelspec": {
   "display_name": "Python 3 (ipykernel)",
   "language": "python",
   "name": "python3"
  },
  "language_info": {
   "codemirror_mode": {
    "name": "ipython",
    "version": 3
   },
   "file_extension": ".py",
   "mimetype": "text/x-python",
   "name": "python",
   "nbconvert_exporter": "python",
   "pygments_lexer": "ipython3",
   "version": "3.9.9"
  }
 },
 "nbformat": 4,
 "nbformat_minor": 4
}
