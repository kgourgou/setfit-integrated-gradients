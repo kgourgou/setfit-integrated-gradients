{
 "cells": [
  {
   "cell_type": "code",
   "execution_count": 2,
   "metadata": {
    "tags": []
   },
   "outputs": [],
   "source": [
    "%load_ext lab_black"
   ]
  },
  {
   "cell_type": "code",
   "execution_count": 3,
   "metadata": {
    "tags": []
   },
   "outputs": [],
   "source": [
    "import pandas as pd\n",
    "import torch\n",
    "from datasets import Dataset, load_dataset\n",
    "from sentence_transformers.losses import CosineSimilarityLoss\n",
    "from sentence_transformers.SentenceTransformer import SentenceTransformer\n",
    "from setfit import SetFitModel, SetFitTrainer\n",
    "from tqdm.auto import tqdm\n",
    "\n",
    "from setfit_ig.html_text_colorizer import WordImportanceColorsSetFit\n",
    "from setfit_ig.integrated_gradients import integrated_gradients_on_text\n",
    "from setfit_ig.model_head import BinaryLogisticRegressionModel\n",
    "from setfit_ig.setfit_extensions import SetFitGrad, SetFitModelWithTorchHead\n",
    "\n",
    "from IPython.display import HTML"
   ]
  },
  {
   "cell_type": "code",
   "execution_count": 4,
   "metadata": {
    "tags": []
   },
   "outputs": [
    {
     "name": "stderr",
     "output_type": "stream",
     "text": [
      "Using custom data configuration default\n",
      "Reusing dataset rotten_tomatoes (/Users/kostis/.cache/huggingface/datasets/rotten_tomatoes/default/1.0.0/40d411e45a6ce3484deed7cc15b82a53dad9a72aafd9f86f8f227134bec5ca46)\n"
     ]
    },
    {
     "data": {
      "application/vnd.jupyter.widget-view+json": {
       "model_id": "3e59a2ba6b4f4dc9998fc2ee13beafba",
       "version_major": 2,
       "version_minor": 0
      },
      "text/plain": [
       "  0%|          | 0/3 [00:00<?, ?it/s]"
      ]
     },
     "metadata": {},
     "output_type": "display_data"
    }
   ],
   "source": [
    "data = load_dataset(\"rotten_tomatoes\")\n",
    "data = data[\"train\"].train_test_split(\n",
    "    train_size=20, test_size=300, stratify_by_column=\"label\", shuffle=True\n",
    ")\n",
    "\n",
    "train = data[\"train\"]\n",
    "test = data[\"test\"]\n",
    "\n",
    "\n",
    "# Warning: this is a big model\n",
    "model_name = \"sentence-transformers/all-MiniLM-L6-v2\"\n",
    "\n",
    "model = SetFitModelWithTorchHead(\n",
    "    model_body=SentenceTransformer(model_name),\n",
    "    model_head=BinaryLogisticRegressionModel(\n",
    "        input_dimension=384, lr=0.01, number_of_epochs=10000, device=\"cpu\"\n",
    "    ),\n",
    ")\n",
    "\n",
    "trainer = SetFitTrainer(\n",
    "    model=model,\n",
    "    train_dataset=train,\n",
    "    eval_dataset=test,\n",
    "    loss_class=CosineSimilarityLoss,\n",
    "    batch_size=10,\n",
    "    num_epochs=1,\n",
    "    num_iterations=20,\n",
    ")"
   ]
  },
  {
   "cell_type": "code",
   "execution_count": 5,
   "metadata": {
    "tags": []
   },
   "outputs": [
    {
     "name": "stderr",
     "output_type": "stream",
     "text": [
      "***** Running training *****\n",
      "  Num examples = 800\n",
      "  Num epochs = 1\n",
      "  Total optimization steps = 80\n",
      "  Total train batch size = 10\n"
     ]
    },
    {
     "data": {
      "application/vnd.jupyter.widget-view+json": {
       "model_id": "6f12e090e14644968049d822b1120094",
       "version_major": 2,
       "version_minor": 0
      },
      "text/plain": [
       "Epoch:   0%|          | 0/1 [00:00<?, ?it/s]"
      ]
     },
     "metadata": {},
     "output_type": "display_data"
    },
    {
     "data": {
      "application/vnd.jupyter.widget-view+json": {
       "model_id": "1b90d0d2b7f1412ebe2fbfd4dc431440",
       "version_major": 2,
       "version_minor": 0
      },
      "text/plain": [
       "Iteration:   0%|          | 0/80 [00:00<?, ?it/s]"
      ]
     },
     "metadata": {},
     "output_type": "display_data"
    }
   ],
   "source": [
    "trainer.train()"
   ]
  },
  {
   "cell_type": "code",
   "execution_count": 8,
   "metadata": {
    "tags": []
   },
   "outputs": [
    {
     "name": "stdout",
     "output_type": "stream",
     "text": [
      "Remember to use:\n",
      "from IPython.display import HTML\n",
      "HTML(colored_text)\n"
     ]
    },
    {
     "name": "stderr",
     "output_type": "stream",
     "text": [
      "100%|███████████████████████████████████████████████████████████████████| 100/100 [00:05<00:00, 16.88it/s]"
     ]
    },
    {
     "name": "stdout",
     "output_type": "stream",
     "text": [
      "0\n",
      "class probability: 0.51\n"
     ]
    },
    {
     "name": "stderr",
     "output_type": "stream",
     "text": [
      "\n"
     ]
    },
    {
     "data": {
      "text/html": [
       "<mark style=background-color:#ff7676>less </mark> <mark style=background-color:#ff9898>a </mark> <mark style=background-color:#f2f2ff>heartfelt </mark> <mark style=background-color:#ff0000>appeal </mark> <mark style=background-color:#ffcece>for </mark> <mark style=background-color:#ff9292>the </mark> <mark style=background-color:#ffa4a4>handicapped </mark> <mark style=background-color:#fffefe>than </mark> <mark style=background-color:#ff9898>a </mark> <mark style=background-color:#ffeeee>nice </mark> <mark style=background-color:#fffefe>belgian </mark> <mark style=background-color:#ffcccc>waffle </mark> <mark style=background-color:#0000ff>. </mark>"
      ],
      "text/plain": [
       "<IPython.core.display.HTML object>"
      ]
     },
     "execution_count": 8,
     "metadata": {},
     "output_type": "execute_result"
    }
   ],
   "source": [
    "grd = SetFitGrad(model)\n",
    "m = WordImportanceColorsSetFit(grd)\n",
    "\n",
    "\n",
    "N = 0\n",
    "test_text, test_label = test[\"text\"][N], test[\"label\"][N]\n",
    "colors, df, prob, _ = m.show_colors_for_sentence(test_text, integration_steps=100)\n",
    "print(test_label)\n",
    "print(f\"class probability: {prob:1.2f}\")\n",
    "HTML(colors)"
   ]
  },
  {
   "cell_type": "code",
   "execution_count": null,
   "metadata": {
    "tags": []
   },
   "outputs": [
    {
     "name": "stderr",
     "output_type": "stream",
     "text": [
      " 10%|██████▊                                                             | 10/100 [00:00<00:05, 16.16it/s]"
     ]
    }
   ],
   "source": [
    "\n",
    "N = 1\n",
    "test_text, test_label = test[\"text\"][N], test[\"label\"][N]\n",
    "colors, df, prob, _ = m.show_colors_for_sentence(test_text, integration_steps=100)\n",
    "print(test_label)\n",
    "print(f\"class probability: {prob:1.2f}\")\n",
    "HTML(colors)"
   ]
  },
  {
   "cell_type": "code",
   "execution_count": null,
   "metadata": {},
   "outputs": [],
   "source": []
  },
  {
   "cell_type": "code",
   "execution_count": null,
   "metadata": {},
   "outputs": [],
   "source": []
  }
 ],
 "metadata": {
  "kernelspec": {
   "display_name": "Python 3 (ipykernel)",
   "language": "python",
   "name": "python3"
  },
  "language_info": {
   "codemirror_mode": {
    "name": "ipython",
    "version": 3
   },
   "file_extension": ".py",
   "mimetype": "text/x-python",
   "name": "python",
   "nbconvert_exporter": "python",
   "pygments_lexer": "ipython3",
   "version": "3.9.9"
  }
 },
 "nbformat": 4,
 "nbformat_minor": 4
}
