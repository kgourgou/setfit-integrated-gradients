{
 "cells": [
  {
   "cell_type": "code",
   "execution_count": 1,
   "metadata": {
    "tags": []
   },
   "outputs": [],
   "source": [
    "%load_ext lab_black"
   ]
  },
  {
   "cell_type": "code",
   "execution_count": 2,
   "metadata": {
    "tags": []
   },
   "outputs": [],
   "source": [
    "import pandas as pd\n",
    "import torch\n",
    "import sk2torch\n",
    "\n",
    "from sklearn.metrics import roc_auc_score\n",
    "\n",
    "from datasets import Dataset, load_dataset\n",
    "from sentence_transformers.losses import CosineSimilarityLoss\n",
    "from sentence_transformers.SentenceTransformer import SentenceTransformer\n",
    "from setfit import SetFitModel, SetFitTrainer\n",
    "from tqdm.auto import tqdm\n",
    "\n",
    "from setfit_ig.html_text_colorizer import WordImportanceColorsSetFit\n",
    "from setfit_ig.integrated_gradients import integrated_gradients_on_text\n",
    "from setfit_ig.model_head import SklearnToPyTorchLogisticRegression\n",
    "\n",
    "from setfit_ig.setfit_extensions import SetFitGrad, SetFitModelWithTorchHead\n",
    "\n",
    "from IPython.display import HTML\n",
    "\n",
    "from sklearn.model_selection import train_test_split"
   ]
  },
  {
   "cell_type": "code",
   "execution_count": 36,
   "metadata": {
    "tags": []
   },
   "outputs": [
    {
     "name": "stderr",
     "output_type": "stream",
     "text": [
      "Using custom data configuration default\n",
      "Reusing dataset sst2 (/Users/kostis/.cache/huggingface/datasets/sst2/default/2.0.0/9896208a8d85db057ac50c72282bcb8fe755accc671a57dd8059d4e130961ed5)\n",
      "model_head.pkl not found on HuggingFace Hub, initialising classification head with random weights. You should TRAIN this model on a downstream task to use it for predictions and inference.\n"
     ]
    }
   ],
   "source": [
    "data = load_dataset(\"sst2\", split=\"train\")\n",
    "data = data.train_test_split(\n",
    "    train_size=20,\n",
    "    test_size=300,\n",
    ")\n",
    "\n",
    "\n",
    "train = data[\"train\"]\n",
    "test = data[\"test\"]\n",
    "\n",
    "\n",
    "model_name = \"sentence-transformers/all-MiniLM-L6-v2\"\n",
    "\n",
    "\n",
    "model = SetFitModel.from_pretrained(\"sentence-transformers/all-MiniLM-L6-v2\")\n",
    "trainer = SetFitTrainer(\n",
    "    model=model,\n",
    "    train_dataset=train,\n",
    "    eval_dataset=test,\n",
    "    loss_class=CosineSimilarityLoss,\n",
    "    batch_size=15,\n",
    "    num_epochs=1,\n",
    "    num_iterations=20,\n",
    "    column_mapping={\"sentence\": \"text\", \"label\": \"label\"},\n",
    ")"
   ]
  },
  {
   "cell_type": "code",
   "execution_count": 37,
   "metadata": {
    "tags": []
   },
   "outputs": [
    {
     "name": "stderr",
     "output_type": "stream",
     "text": [
      "Applying column mapping to training dataset\n",
      "***** Running training *****\n",
      "  Num examples = 800\n",
      "  Num epochs = 1\n",
      "  Total optimization steps = 54\n",
      "  Total train batch size = 15\n"
     ]
    },
    {
     "data": {
      "application/vnd.jupyter.widget-view+json": {
       "model_id": "12cf658d3fa94f0aa0c34ab2f3b08e62",
       "version_major": 2,
       "version_minor": 0
      },
      "text/plain": [
       "Epoch:   0%|          | 0/1 [00:00<?, ?it/s]"
      ]
     },
     "metadata": {},
     "output_type": "display_data"
    },
    {
     "data": {
      "application/vnd.jupyter.widget-view+json": {
       "model_id": "ac277bf3c07e4bc58b334dfed3fff591",
       "version_major": 2,
       "version_minor": 0
      },
      "text/plain": [
       "Iteration:   0%|          | 0/54 [00:00<?, ?it/s]"
      ]
     },
     "metadata": {},
     "output_type": "display_data"
    }
   ],
   "source": [
    "trainer.train()"
   ]
  },
  {
   "cell_type": "code",
   "execution_count": 38,
   "metadata": {
    "tags": []
   },
   "outputs": [],
   "source": [
    "model_st = SetFitModelWithTorchHead(\n",
    "    model_body=model.model_body,\n",
    "    model_head=SklearnToPyTorchLogisticRegression(model.model_head),\n",
    ")"
   ]
  },
  {
   "cell_type": "code",
   "execution_count": 40,
   "metadata": {
    "tags": []
   },
   "outputs": [],
   "source": [
    "scores_st = model_st.predict_proba(test[\"sentence\"]).detach().numpy()\n",
    "scores = model.predict_proba(test[\"sentence\"])[:, 1]"
   ]
  },
  {
   "cell_type": "code",
   "execution_count": 41,
   "metadata": {
    "tags": []
   },
   "outputs": [
    {
     "name": "stdout",
     "output_type": "stream",
     "text": [
      "0.7312435069334657\n",
      "0.7312435069334657\n"
     ]
    }
   ],
   "source": [
    "# sanity check\n",
    "print(roc_auc_score(test[\"label\"], scores_st))\n",
    "print(roc_auc_score(test[\"label\"], scores))"
   ]
  },
  {
   "cell_type": "code",
   "execution_count": 47,
   "metadata": {
    "tags": []
   },
   "outputs": [
    {
     "name": "stdout",
     "output_type": "stream",
     "text": [
      "Remember to use:\n",
      "from IPython.display import HTML\n",
      "HTML(colored_text)\n"
     ]
    },
    {
     "name": "stderr",
     "output_type": "stream",
     "text": [
      "100%|█████████████████████████████████████████████████████████████████████| 80/80 [00:06<00:00, 11.60it/s]"
     ]
    },
    {
     "name": "stdout",
     "output_type": "stream",
     "text": [
      "1\n",
      "class probability: 0.59\n"
     ]
    },
    {
     "name": "stderr",
     "output_type": "stream",
     "text": [
      "\n"
     ]
    },
    {
     "data": {
      "text/html": [
       "<mark style=background-color:#fffefe>the </mark> <mark style=background-color:#ff9898>enticing </mark> <mark style=background-color:#ff0000>prospect </mark> <mark style=background-color:#fffefe> </mark>"
      ],
      "text/plain": [
       "<IPython.core.display.HTML object>"
      ]
     },
     "execution_count": 47,
     "metadata": {},
     "output_type": "execute_result"
    }
   ],
   "source": [
    "grd = SetFitGrad(model_st)\n",
    "m = WordImportanceColorsSetFit(grd)\n",
    "\n",
    "# blue for class 0 and red for class 1\n",
    "\n",
    "\n",
    "def return_prediction(N):\n",
    "    test_text, test_label = test[\"sentence\"][N], test[\"label\"][N]\n",
    "    colors, df, prob, _ = m.show_colors_for_sentence(test_text, integration_steps=80)\n",
    "    print(test_label)\n",
    "    print(f\"class probability: {prob:1.2f}\")\n",
    "    return colors\n",
    "\n",
    "\n",
    "colors = return_prediction(10)\n",
    "HTML(colors)"
   ]
  },
  {
   "cell_type": "code",
   "execution_count": 48,
   "metadata": {
    "tags": []
   },
   "outputs": [
    {
     "name": "stderr",
     "output_type": "stream",
     "text": [
      "100%|█████████████████████████████████████████████████████████████████████| 80/80 [00:10<00:00,  7.78it/s]"
     ]
    },
    {
     "name": "stdout",
     "output_type": "stream",
     "text": [
      "0\n",
      "class probability: 0.47\n"
     ]
    },
    {
     "name": "stderr",
     "output_type": "stream",
     "text": [
      "\n"
     ]
    },
    {
     "data": {
      "text/html": [
       "<mark style=background-color:#8a8aff>to </mark> <mark style=background-color:#0a0aff>include </mark> <mark style=background-color:#ececff>every </mark> <mark style=background-color:#fefeff>top-notch </mark> <mark style=background-color:#ffbebe>british </mark> <mark style=background-color:#ff0000>actor </mark> <mark style=background-color:#ffcece>who </mark> <mark style=background-color:#0000ff>did </mark> <mark style=background-color:#fffefe>not </mark> <mark style=background-color:#fff4f4>appear </mark> <mark style=background-color:#8282ff>in </mark> <mark style=background-color:#9c9cff>gosford </mark> <mark style=background-color:#ffecec>park </mark> <mark style=background-color:#8e8eff>( </mark> <mark style=background-color:#7070ff>as </mark> <mark style=background-color:#6464ff>well </mark> <mark style=background-color:#7070ff>as </mark> <mark style=background-color:#6868ff>one </mark> <mark style=background-color:#6060ff>, </mark> <mark style=background-color:#fffefe>ms. </mark> <mark style=background-color:#f6f6ff>mirren </mark> <mark style=background-color:#6060ff>, </mark> <mark style=background-color:#ffcece>who </mark> <mark style=background-color:#0000ff>did </mark> <mark style=background-color:#c2c2ff>) </mark> <mark style=background-color:#fffefe> </mark>"
      ],
      "text/plain": [
       "<IPython.core.display.HTML object>"
      ]
     },
     "execution_count": 48,
     "metadata": {},
     "output_type": "execute_result"
    }
   ],
   "source": [
    "colors = return_prediction(50)\n",
    "HTML(colors)"
   ]
  },
  {
   "cell_type": "code",
   "execution_count": 54,
   "metadata": {
    "tags": []
   },
   "outputs": [
    {
     "name": "stderr",
     "output_type": "stream",
     "text": [
      "100%|█████████████████████████████████████████████████████████████████████| 80/80 [00:08<00:00,  9.62it/s]"
     ]
    },
    {
     "name": "stdout",
     "output_type": "stream",
     "text": [
      "0\n",
      "class probability: 0.46\n"
     ]
    },
    {
     "name": "stderr",
     "output_type": "stream",
     "text": [
      "\n"
     ]
    },
    {
     "data": {
      "text/html": [
       "<mark style=background-color:#f0f0ff>an </mark> <mark style=background-color:#ffeaea>idea </mark> <mark style=background-color:#ff8282>buried </mark> <mark style=background-color:#a2a2ff>somewhere </mark> <mark style=background-color:#fffefe>inside </mark> <mark style=background-color:#ff7474>its </mark> <mark style=background-color:#ff0000>fabric </mark> <mark style=background-color:#1818ff>, </mark> <mark style=background-color:#6a6aff>but </mark> <mark style=background-color:#7272ff>never </mark> <mark style=background-color:#7070ff>clearly </mark> <mark style=background-color:#0000ff>seen </mark> <mark style=background-color:#9696ff>or </mark> <mark style=background-color:#ff9a9a>felt </mark> <mark style=background-color:#fffefe> </mark>"
      ],
      "text/plain": [
       "<IPython.core.display.HTML object>"
      ]
     },
     "execution_count": 54,
     "metadata": {},
     "output_type": "execute_result"
    }
   ],
   "source": [
    "colors = return_prediction(220)\n",
    "HTML(colors)"
   ]
  },
  {
   "cell_type": "code",
   "execution_count": null,
   "metadata": {},
   "outputs": [],
   "source": []
  }
 ],
 "metadata": {
  "kernelspec": {
   "display_name": "Python 3 (ipykernel)",
   "language": "python",
   "name": "python3"
  },
  "language_info": {
   "codemirror_mode": {
    "name": "ipython",
    "version": 3
   },
   "file_extension": ".py",
   "mimetype": "text/x-python",
   "name": "python",
   "nbconvert_exporter": "python",
   "pygments_lexer": "ipython3",
   "version": "3.9.9"
  }
 },
 "nbformat": 4,
 "nbformat_minor": 4
}
