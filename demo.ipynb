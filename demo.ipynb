{
 "cells": [
  {
   "cell_type": "code",
   "execution_count": 1,
   "metadata": {
    "tags": []
   },
   "outputs": [],
   "source": [
    "%load_ext lab_black"
   ]
  },
  {
   "cell_type": "code",
   "execution_count": 2,
   "metadata": {
    "tags": []
   },
   "outputs": [],
   "source": [
    "import pandas as pd\n",
    "\n",
    "from sklearn.metrics import roc_auc_score\n",
    "\n",
    "from datasets import load_dataset\n",
    "from sentence_transformers.losses import CosineSimilarityLoss\n",
    "from sentence_transformers.SentenceTransformer import SentenceTransformer\n",
    "from setfit import SetFitModel, SetFitTrainer\n",
    "from tqdm.auto import tqdm\n",
    "\n",
    "from setfit_ig.html_text_colorizer import WordImportanceColorsSetFit\n",
    "from setfit_ig.integrated_gradients import integrated_gradients_on_text\n",
    "from setfit_ig.model_head import SklearnToPyTorchLogisticRegression\n",
    "\n",
    "from setfit_ig.setfit_extensions import SetFitGrad, SetFitModelWithTorchHead\n",
    "\n",
    "from IPython.display import HTML\n",
    "\n",
    "from sklearn.model_selection import train_test_split"
   ]
  },
  {
   "cell_type": "code",
   "execution_count": 4,
   "metadata": {
    "tags": []
   },
   "outputs": [
    {
     "name": "stderr",
     "output_type": "stream",
     "text": [
      "Using custom data configuration default\n",
      "Reusing dataset sst2 (/Users/kostis/.cache/huggingface/datasets/sst2/default/2.0.0/9896208a8d85db057ac50c72282bcb8fe755accc671a57dd8059d4e130961ed5)\n",
      "model_head.pkl not found on HuggingFace Hub, initialising classification head with random weights. You should TRAIN this model on a downstream task to use it for predictions and inference.\n"
     ]
    }
   ],
   "source": [
    "data = load_dataset(\"sst2\", split=\"train\")\n",
    "data = data.train_test_split(\n",
    "    train_size=40,\n",
    "    test_size=300,\n",
    ")\n",
    "\n",
    "\n",
    "train = data[\"train\"]\n",
    "test = data[\"test\"]\n",
    "\n",
    "\n",
    "model_name = \"sentence-transformers/all-MiniLM-L6-v2\"\n",
    "\n",
    "\n",
    "model = SetFitModel.from_pretrained(\"sentence-transformers/all-MiniLM-L6-v2\")\n",
    "trainer = SetFitTrainer(\n",
    "    model=model,\n",
    "    train_dataset=train,\n",
    "    eval_dataset=test,\n",
    "    loss_class=CosineSimilarityLoss,\n",
    "    batch_size=15,\n",
    "    num_epochs=1,\n",
    "    num_iterations=5,\n",
    "    column_mapping={\"sentence\": \"text\", \"label\": \"label\"},\n",
    ")"
   ]
  },
  {
   "cell_type": "code",
   "execution_count": 5,
   "metadata": {
    "tags": []
   },
   "outputs": [
    {
     "name": "stderr",
     "output_type": "stream",
     "text": [
      "Applying column mapping to training dataset\n",
      "***** Running training *****\n",
      "  Num examples = 400\n",
      "  Num epochs = 1\n",
      "  Total optimization steps = 27\n",
      "  Total train batch size = 15\n"
     ]
    },
    {
     "data": {
      "application/vnd.jupyter.widget-view+json": {
       "model_id": "13c5563f2c98453983c9208e8f8bc0cc",
       "version_major": 2,
       "version_minor": 0
      },
      "text/plain": [
       "Epoch:   0%|          | 0/1 [00:00<?, ?it/s]"
      ]
     },
     "metadata": {},
     "output_type": "display_data"
    },
    {
     "data": {
      "application/vnd.jupyter.widget-view+json": {
       "model_id": "38ed3c24888649659bc50fab34e649a9",
       "version_major": 2,
       "version_minor": 0
      },
      "text/plain": [
       "Iteration:   0%|          | 0/27 [00:00<?, ?it/s]"
      ]
     },
     "metadata": {},
     "output_type": "display_data"
    }
   ],
   "source": [
    "trainer.train()"
   ]
  },
  {
   "cell_type": "code",
   "execution_count": 6,
   "metadata": {},
   "outputs": [
    {
     "name": "stderr",
     "output_type": "stream",
     "text": [
      "Applying column mapping to evaluation dataset\n",
      "***** Running evaluation *****\n"
     ]
    },
    {
     "data": {
      "text/plain": [
       "{'accuracy': 0.7033333333333334}"
      ]
     },
     "execution_count": 6,
     "metadata": {},
     "output_type": "execute_result"
    }
   ],
   "source": [
    "trainer.evaluate()"
   ]
  },
  {
   "cell_type": "code",
   "execution_count": 7,
   "metadata": {
    "tags": []
   },
   "outputs": [],
   "source": [
    "model_st = SetFitModelWithTorchHead(\n",
    "    model_body=model.model_body,\n",
    "    model_head=SklearnToPyTorchLogisticRegression(model.model_head),\n",
    ")"
   ]
  },
  {
   "cell_type": "code",
   "execution_count": 33,
   "metadata": {
    "tags": []
   },
   "outputs": [
    {
     "name": "stdout",
     "output_type": "stream",
     "text": [
      "Remember to use:\n",
      "from IPython.display import HTML\n",
      "HTML(colored_text)\n",
      "1\n",
      "class probability: 0.48\n"
     ]
    },
    {
     "data": {
      "text/html": [
       "<mark style=background-color:#d2d2ff>of </mark> <mark style=background-color:#ff1818>those </mark> <mark style=background-color:#ffaeae>rare </mark> <mark style=background-color:#0000ff>films </mark> <mark style=background-color:#ffa4a4>that </mark> <mark style=background-color:#eaeaff>come </mark> <mark style=background-color:#8e8eff>by </mark> <mark style=background-color:#ffb8b8>once </mark> <mark style=background-color:#aaaaff>in </mark> <mark style=background-color:#aeaeff>a </mark> <mark style=background-color:#ffdcdc>while </mark> <mark style=background-color:#e0e0ff>with </mark> <mark style=background-color:#ff2626>flawless </mark> <mark style=background-color:#ceceff>amounts </mark> <mark style=background-color:#d2d2ff>of </mark> <mark style=background-color:#ffcccc>acting </mark> <mark style=background-color:#a6a6ff>, </mark> <mark style=background-color:#d4d4ff>direction </mark> <mark style=background-color:#a6a6ff>, </mark> <mark style=background-color:#fffefe>story </mark> <mark style=background-color:#fff0f0>and </mark> <mark style=background-color:#ff0000>pace </mark> <mark style=background-color:#fffefe> </mark>"
      ],
      "text/plain": [
       "<IPython.core.display.HTML object>"
      ]
     },
     "execution_count": 33,
     "metadata": {},
     "output_type": "execute_result"
    }
   ],
   "source": [
    "grd = SetFitGrad(model_st)\n",
    "m = WordImportanceColorsSetFit(grd)\n",
    "\n",
    "# blue for class 0 and red for class 1\n",
    "\n",
    "\n",
    "def return_prediction(N):\n",
    "    test_text, test_label = test[\"sentence\"][N], test[\"label\"][N]\n",
    "    colors, df, prob, _ = m.show_colors_for_sentence(test_text, integration_steps=120)\n",
    "    print(test_label)\n",
    "    print(f\"class probability: {prob:1.2f}\")\n",
    "    return colors\n",
    "\n",
    "\n",
    "colors = return_prediction(10)\n",
    "HTML(colors)"
   ]
  },
  {
   "cell_type": "code",
   "execution_count": 43,
   "metadata": {
    "tags": []
   },
   "outputs": [
    {
     "name": "stdout",
     "output_type": "stream",
     "text": [
      "1\n",
      "class probability: 0.52\n"
     ]
    },
    {
     "data": {
      "text/html": [
       "<mark style=background-color:#ffd2d2>a </mark> <mark style=background-color:#fffefe>solidly </mark> <mark style=background-color:#ff0000>entertaining </mark> <mark style=background-color:#ffbebe>little </mark> <mark style=background-color:#0000ff>film </mark> <mark style=background-color:#fffefe> </mark>"
      ],
      "text/plain": [
       "<IPython.core.display.HTML object>"
      ]
     },
     "execution_count": 43,
     "metadata": {},
     "output_type": "execute_result"
    }
   ],
   "source": [
    "colors = return_prediction(100)\n",
    "HTML(colors)"
   ]
  },
  {
   "cell_type": "code",
   "execution_count": 32,
   "metadata": {
    "tags": []
   },
   "outputs": [
    {
     "name": "stdout",
     "output_type": "stream",
     "text": [
      "1\n",
      "class probability: 0.57\n"
     ]
    },
    {
     "data": {
      "text/html": [
       "<mark style=background-color:#ff7878>whose </mark> <mark style=background-color:#fffefe>sharp </mark> <mark style=background-color:#ff0000>intellect </mark> <mark style=background-color:#fffefe> </mark>"
      ],
      "text/plain": [
       "<IPython.core.display.HTML object>"
      ]
     },
     "execution_count": 32,
     "metadata": {},
     "output_type": "execute_result"
    }
   ],
   "source": [
    "colors = return_prediction(230)\n",
    "HTML(colors)"
   ]
  },
  {
   "cell_type": "code",
   "execution_count": 41,
   "metadata": {},
   "outputs": [
    {
     "name": "stdout",
     "output_type": "stream",
     "text": [
      "class probability: 0.43\n"
     ]
    }
   ],
   "source": [
    "colors, df, prob, _ = m.show_colors_for_sentence(\"\", integration_steps=100)\n",
    "print(f\"class probability: {prob:1.2f}\")"
   ]
  },
  {
   "cell_type": "code",
   "execution_count": null,
   "metadata": {},
   "outputs": [],
   "source": []
  }
 ],
 "metadata": {
  "kernelspec": {
   "display_name": "Python 3 (ipykernel)",
   "language": "python",
   "name": "python3"
  },
  "language_info": {
   "codemirror_mode": {
    "name": "ipython",
    "version": 3
   },
   "file_extension": ".py",
   "mimetype": "text/x-python",
   "name": "python",
   "nbconvert_exporter": "python",
   "pygments_lexer": "ipython3",
   "version": "3.9.9"
  }
 },
 "nbformat": 4,
 "nbformat_minor": 4
}
